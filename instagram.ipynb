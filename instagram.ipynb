{
 "cells": [
  {
   "cell_type": "code",
   "execution_count": null,
   "metadata": {
    "vscode": {
     "languageId": "plaintext"
    }
   },
   "outputs": [],
   "source": [
    "# Download required packages\n",
    "\n",
    "%pip install requests_cache -q\n",
    "%pip install tqdm\n",
    "%pip install pandas\n",
    "%pip install python-dotenv\n",
    "%pip install requests\n",
    "%pip install kalshi-python"
   ]
  },
  {
   "cell_type": "code",
   "execution_count": null,
   "metadata": {
    "vscode": {
     "languageId": "plaintext"
    }
   },
   "outputs": [],
   "source": [
    "import requests\n",
    "from dotenv import load_dotenv\n",
    "import os\n",
    "\n",
    "load_dotenv()\n",
    "api_key = os.getenv(\"KALSHI_KEY\")\n",
    "\n",
    "event_ticker = 'KXLIVENATIONUS-30'\n",
    "KALSHI_EVENTS = \"https://api.elections.kalshi.com/trade-api/v2/events\"\n",
    "KALSHI_EVENT = f\"https://api.elections.kalshi.com/trade-api/v2/events/{event_ticker}\"\n",
    "r = requests.get(KALSHI_EVENTS)\n",
    "response = r.json()\n",
    "response"
   ]
  },
  {
   "cell_type": "code",
   "execution_count": null,
   "metadata": {
    "vscode": {
     "languageId": "plaintext"
    }
   },
   "outputs": [],
   "source": [
    "import pandas as pd\n",
    "from tqdm import tqdm\n",
    "import pickle\n",
    "\n",
    "# Read Kalshi Events to a DataFrame\n",
    "cursor = \"\"\n",
    "events = []\n",
    "\n",
    "with tqdm(total=float('inf'), desc=\"Fetching markets\") as pbar:\n",
    "    while True:\n",
    "        url = KALSHI_EVENTS\n",
    "\n",
    "        response = requests.get(url, params=dict(\n",
    "            limit=200,\n",
    "            cursor=cursor,\n",
    "            with_nested_markets=True\n",
    "        ))\n",
    "        r = response.json()\n",
    "\n",
    "        # Append the new events\n",
    "        events.extend(r.get(\"events\", []))\n",
    "        \n",
    "        # Update cursor and break if there are no new results\n",
    "        new_cursor = r.get(\"cursor\")\n",
    "        if new_cursor == cursor or not new_cursor:\n",
    "            break\n",
    "        cursor = new_cursor\n",
    "        pbar.update(len(r.get(\"events\", [])))\n",
    "\n",
    "# Convert to DataFrame\n",
    "events_df = pd.DataFrame(events)\n",
    "\n",
    "# Cache into a pickle file\n",
    "with open('../../data/kalshi_event_data.pkl', 'wb') as f:\n",
    "    pickle.dump(events_df, f)"
   ]
  },
  {
   "cell_type": "code",
   "execution_count": null,
   "metadata": {
    "vscode": {
     "languageId": "plaintext"
    }
   },
   "outputs": [],
   "source": [
    "import pickle\n",
    "\n",
    "with open('../../data/kalshi_event_data.pkl', 'rb') as f:\n",
    "    df = pickle.load(f)\n",
    "df"
   ]
  },
  {
   "cell_type": "code",
   "execution_count": null,
   "metadata": {
    "vscode": {
     "languageId": "plaintext"
    }
   },
   "outputs": [],
   "source": [
    "result = df[df['category'] == 'Entertainment']\n",
    "\n",
    "# Display the result\n",
    "result"
   ]
  },
  {
   "cell_type": "code",
   "execution_count": null,
   "metadata": {
    "vscode": {
     "languageId": "plaintext"
    }
   },
   "outputs": [],
   "source": [
    "#https://medium.com/@ritikkhndelwal/instagram-hashtag-search-using-python-and-instagram-graph-api-a5efc2dce6f1\n",
    "\n",
    "\n",
    "\n",
    "#get instagram info "
   ]
  }
 ],
 "metadata": {
  "language_info": {
   "name": "python"
  }
 },
 "nbformat": 4,
 "nbformat_minor": 2
}
