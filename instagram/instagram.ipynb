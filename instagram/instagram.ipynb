{
 "cells": [
  {
   "cell_type": "code",
   "execution_count": 1,
   "metadata": {},
   "outputs": [
    {
     "name": "stdout",
     "output_type": "stream",
     "text": [
      "Note: you may need to restart the kernel to use updated packages.\n",
      "Collecting tqdm\n",
      "  Using cached tqdm-4.67.1-py3-none-any.whl.metadata (57 kB)\n",
      "Using cached tqdm-4.67.1-py3-none-any.whl (78 kB)\n",
      "Installing collected packages: tqdm\n",
      "Successfully installed tqdm-4.67.1\n",
      "Note: you may need to restart the kernel to use updated packages.\n",
      "Collecting pandas\n",
      "  Using cached pandas-2.2.3-cp313-cp313-macosx_11_0_arm64.whl.metadata (89 kB)\n",
      "Collecting numpy>=1.26.0 (from pandas)\n",
      "  Downloading numpy-2.2.4-cp313-cp313-macosx_14_0_arm64.whl.metadata (62 kB)\n",
      "Requirement already satisfied: python-dateutil>=2.8.2 in ./.venv/lib/python3.13/site-packages (from pandas) (2.9.0.post0)\n",
      "Requirement already satisfied: pytz>=2020.1 in ./.venv/lib/python3.13/site-packages (from pandas) (2025.2)\n",
      "Collecting tzdata>=2022.7 (from pandas)\n",
      "  Downloading tzdata-2025.2-py2.py3-none-any.whl.metadata (1.4 kB)\n",
      "Requirement already satisfied: six>=1.5 in ./.venv/lib/python3.13/site-packages (from python-dateutil>=2.8.2->pandas) (1.17.0)\n",
      "Using cached pandas-2.2.3-cp313-cp313-macosx_11_0_arm64.whl (11.3 MB)\n",
      "Downloading numpy-2.2.4-cp313-cp313-macosx_14_0_arm64.whl (5.1 MB)\n",
      "\u001b[2K   \u001b[90m━━━━━━━━━━━━━━━━━━━━━━━━━━━━━━━━━━━━━━━━\u001b[0m \u001b[32m5.1/5.1 MB\u001b[0m \u001b[31m20.6 MB/s\u001b[0m eta \u001b[36m0:00:00\u001b[0ma \u001b[36m0:00:01\u001b[0m\n",
      "\u001b[?25hDownloading tzdata-2025.2-py2.py3-none-any.whl (347 kB)\n",
      "Installing collected packages: tzdata, numpy, pandas\n",
      "Successfully installed numpy-2.2.4 pandas-2.2.3 tzdata-2025.2\n",
      "Note: you may need to restart the kernel to use updated packages.\n",
      "Requirement already satisfied: python-dotenv in ./.venv/lib/python3.13/site-packages (1.1.0)\n",
      "Note: you may need to restart the kernel to use updated packages.\n",
      "Requirement already satisfied: requests in ./.venv/lib/python3.13/site-packages (2.32.3)\n",
      "Requirement already satisfied: charset-normalizer<4,>=2 in ./.venv/lib/python3.13/site-packages (from requests) (3.4.1)\n",
      "Requirement already satisfied: idna<4,>=2.5 in ./.venv/lib/python3.13/site-packages (from requests) (3.10)\n",
      "Requirement already satisfied: urllib3<3,>=1.21.1 in ./.venv/lib/python3.13/site-packages (from requests) (2.4.0)\n",
      "Requirement already satisfied: certifi>=2017.4.17 in ./.venv/lib/python3.13/site-packages (from requests) (2025.1.31)\n",
      "Note: you may need to restart the kernel to use updated packages.\n",
      "Collecting kalshi-python\n",
      "  Downloading kalshi_python-2.0.0-py3-none-any.whl.metadata (4.6 kB)\n",
      "Requirement already satisfied: urllib3>=1.15 in ./.venv/lib/python3.13/site-packages (from kalshi-python) (2.4.0)\n",
      "Requirement already satisfied: six>=1.10 in ./.venv/lib/python3.13/site-packages (from kalshi-python) (1.17.0)\n",
      "Requirement already satisfied: certifi in ./.venv/lib/python3.13/site-packages (from kalshi-python) (2025.1.31)\n",
      "Requirement already satisfied: python-dateutil in ./.venv/lib/python3.13/site-packages (from kalshi-python) (2.9.0.post0)\n",
      "Downloading kalshi_python-2.0.0-py3-none-any.whl (150 kB)\n",
      "Installing collected packages: kalshi-python\n",
      "Successfully installed kalshi-python-2.0.0\n",
      "Note: you may need to restart the kernel to use updated packages.\n",
      "Collecting insta-scrape\n",
      "  Downloading insta_scrape-2.1.2-py3-none-any.whl.metadata (9.0 kB)\n",
      "Collecting beautifulsoup4 (from insta-scrape)\n",
      "  Downloading beautifulsoup4-4.13.4-py3-none-any.whl.metadata (3.8 kB)\n",
      "Requirement already satisfied: requests in ./.venv/lib/python3.13/site-packages (from insta-scrape) (2.32.3)\n",
      "Collecting soupsieve>1.2 (from beautifulsoup4->insta-scrape)\n",
      "  Using cached soupsieve-2.6-py3-none-any.whl.metadata (4.6 kB)\n",
      "Collecting typing-extensions>=4.0.0 (from beautifulsoup4->insta-scrape)\n",
      "  Downloading typing_extensions-4.13.2-py3-none-any.whl.metadata (3.0 kB)\n",
      "Requirement already satisfied: charset-normalizer<4,>=2 in ./.venv/lib/python3.13/site-packages (from requests->insta-scrape) (3.4.1)\n",
      "Requirement already satisfied: idna<4,>=2.5 in ./.venv/lib/python3.13/site-packages (from requests->insta-scrape) (3.10)\n",
      "Requirement already satisfied: urllib3<3,>=1.21.1 in ./.venv/lib/python3.13/site-packages (from requests->insta-scrape) (2.4.0)\n",
      "Requirement already satisfied: certifi>=2017.4.17 in ./.venv/lib/python3.13/site-packages (from requests->insta-scrape) (2025.1.31)\n",
      "Downloading insta_scrape-2.1.2-py3-none-any.whl (26 kB)\n",
      "Downloading beautifulsoup4-4.13.4-py3-none-any.whl (187 kB)\n",
      "Using cached soupsieve-2.6-py3-none-any.whl (36 kB)\n",
      "Downloading typing_extensions-4.13.2-py3-none-any.whl (45 kB)\n",
      "Installing collected packages: typing-extensions, soupsieve, beautifulsoup4, insta-scrape\n",
      "Successfully installed beautifulsoup4-4.13.4 insta-scrape-2.1.2 soupsieve-2.6 typing-extensions-4.13.2\n",
      "Note: you may need to restart the kernel to use updated packages.\n"
     ]
    }
   ],
   "source": [
    "# Download required packages\n",
    "\n",
    "%pip install requests_cache -q\n",
    "%pip install tqdm\n",
    "%pip install pandas\n",
    "%pip install python-dotenv\n",
    "%pip install requests\n",
    "%pip install kalshi-python\n",
    "%pip install insta-scrape"
   ]
  },
  {
   "cell_type": "code",
   "execution_count": null,
   "metadata": {},
   "outputs": [],
   "source": [
    "import requests\n",
    "from dotenv import load_dotenv\n",
    "import os\n",
    "\n",
    "load_dotenv()\n",
    "api_key = os.getenv(\"KALSHI_KEY\")\n",
    "\n",
    "event_ticker = 'KXLIVENATIONUS-30'\n",
    "KALSHI_EVENTS = \"https://api.elections.kalshi.com/trade-api/v2/events\"\n",
    "KALSHI_EVENT = f\"https://api.elections.kalshi.com/trade-api/v2/events/{event_ticker}\"\n",
    "r = requests.get(KALSHI_EVENTS)\n",
    "response = r.json()\n",
    "response"
   ]
  },
  {
   "cell_type": "code",
   "execution_count": null,
   "metadata": {},
   "outputs": [],
   "source": [
    "import pandas as pd\n",
    "from tqdm import tqdm\n",
    "import pickle\n",
    "\n",
    "# Read Kalshi Events to a DataFrame\n",
    "cursor = \"\"\n",
    "events = []\n",
    "\n",
    "with tqdm(total=float('inf'), desc=\"Fetching markets\") as pbar:\n",
    "    while True:\n",
    "        url = KALSHI_EVENTS\n",
    "\n",
    "        response = requests.get(url, params=dict(\n",
    "            limit=200,\n",
    "            cursor=cursor,\n",
    "            with_nested_markets=True\n",
    "        ))\n",
    "        r = response.json()\n",
    "\n",
    "        # Append the new events\n",
    "        events.extend(r.get(\"events\", []))\n",
    "        \n",
    "        # Update cursor and break if there are no new results\n",
    "        new_cursor = r.get(\"cursor\")\n",
    "        if new_cursor == cursor or not new_cursor:\n",
    "            break\n",
    "        cursor = new_cursor\n",
    "        pbar.update(len(r.get(\"events\", [])))\n",
    "\n",
    "# Convert to DataFrame\n",
    "events_df = pd.DataFrame(events)\n",
    "\n",
    "# Cache into a pickle file\n",
    "with open('../../data/kalshi_event_data.pkl', 'wb') as f:\n",
    "    pickle.dump(events_df, f)"
   ]
  },
  {
   "cell_type": "code",
   "execution_count": null,
   "metadata": {},
   "outputs": [],
   "source": [
    "import pickle\n",
    "\n",
    "with open('../../data/kalshi_event_data.pkl', 'rb') as f:\n",
    "    df = pickle.load(f)\n",
    "df"
   ]
  },
  {
   "cell_type": "code",
   "execution_count": null,
   "metadata": {},
   "outputs": [],
   "source": [
    "result = df[df['category'] == 'Entertainment']\n",
    "\n",
    "# Display the result\n",
    "result"
   ]
  },
  {
   "cell_type": "code",
   "execution_count": null,
   "metadata": {},
   "outputs": [],
   "source": [
    "#https://medium.com/@ritikkhndelwal/instagram-hashtag-search-using-python-and-instagram-graph-api-a5efc2dce6f1\n",
    "\n",
    "\n",
    "\n",
    "#get instagram info "
   ]
  }
 ],
 "metadata": {
  "kernelspec": {
   "display_name": ".venv",
   "language": "python",
   "name": "python3"
  },
  "language_info": {
   "codemirror_mode": {
    "name": "ipython",
    "version": 3
   },
   "file_extension": ".py",
   "mimetype": "text/x-python",
   "name": "python",
   "nbconvert_exporter": "python",
   "pygments_lexer": "ipython3",
   "version": "3.13.2"
  }
 },
 "nbformat": 4,
 "nbformat_minor": 2
}
