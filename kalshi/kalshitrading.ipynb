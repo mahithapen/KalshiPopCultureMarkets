{
 "cells": [
  {
   "cell_type": "code",
   "execution_count": 10,
   "metadata": {},
   "outputs": [
    {
     "name": "stdout",
     "output_type": "stream",
     "text": [
      "Requirement already satisfied: kalshi in /Users/mahithapenmetsa/KalshiPopCultureMarkets/.venv/lib/python3.13/site-packages (0.2.0)\n",
      "Requirement already satisfied: requests in /Users/mahithapenmetsa/KalshiPopCultureMarkets/.venv/lib/python3.13/site-packages (from kalshi) (2.32.3)\n",
      "Requirement already satisfied: charset-normalizer<4,>=2 in /Users/mahithapenmetsa/KalshiPopCultureMarkets/.venv/lib/python3.13/site-packages (from requests->kalshi) (3.4.1)\n",
      "Requirement already satisfied: idna<4,>=2.5 in /Users/mahithapenmetsa/KalshiPopCultureMarkets/.venv/lib/python3.13/site-packages (from requests->kalshi) (3.10)\n",
      "Requirement already satisfied: urllib3<3,>=1.21.1 in /Users/mahithapenmetsa/KalshiPopCultureMarkets/.venv/lib/python3.13/site-packages (from requests->kalshi) (2.4.0)\n",
      "Requirement already satisfied: certifi>=2017.4.17 in /Users/mahithapenmetsa/KalshiPopCultureMarkets/.venv/lib/python3.13/site-packages (from requests->kalshi) (2025.1.31)\n",
      "\n",
      "\u001b[1m[\u001b[0m\u001b[34;49mnotice\u001b[0m\u001b[1;39;49m]\u001b[0m\u001b[39;49m A new release of pip is available: \u001b[0m\u001b[31;49m25.0.1\u001b[0m\u001b[39;49m -> \u001b[0m\u001b[32;49m25.1\u001b[0m\n",
      "\u001b[1m[\u001b[0m\u001b[34;49mnotice\u001b[0m\u001b[1;39;49m]\u001b[0m\u001b[39;49m To update, run: \u001b[0m\u001b[32;49mpip install --upgrade pip\u001b[0m\n",
      "Note: you may need to restart the kernel to use updated packages.\n"
     ]
    },
    {
     "data": {
      "text/plain": [
       "True"
      ]
     },
     "execution_count": 10,
     "metadata": {},
     "output_type": "execute_result"
    }
   ],
   "source": [
    "# Welcome to the Kalshi REST v2 Starter Code!\n",
    "\n",
    "# pypi client: recommended for more advanced programmers\n",
    "%pip install kalshi\n",
    "\n",
    "\n",
    "# starter client: recommended for all levels of programming experience (what this client is implemented using)\n",
    "from KalshiClientsBaseV2 import ExchangeClient\n",
    "import time\n",
    "import json\n",
    "import uuid\n",
    "import os\n",
    "from dotenv import load_dotenv\n",
    "\n",
    "load_dotenv()  # Make sure this points to the correct path if .env isn't in the root directory"
   ]
  },
  {
   "cell_type": "code",
   "execution_count": 13,
   "metadata": {},
   "outputs": [
    {
     "ename": "HttpError",
     "evalue": "HttpError(400 Bad Request)",
     "output_type": "error",
     "traceback": [
      "\u001b[31m---------------------------------------------------------------------------\u001b[39m",
      "\u001b[31mHttpError\u001b[39m                                 Traceback (most recent call last)",
      "\u001b[36mCell\u001b[39m\u001b[36m \u001b[39m\u001b[32mIn[13]\u001b[39m\u001b[32m, line 19\u001b[39m\n\u001b[32m     16\u001b[39m demo_api_base = \u001b[33m\"\u001b[39m\u001b[33mhttps://demo-api.kalshi.co/trade-api/v2\u001b[39m\u001b[33m\"\u001b[39m\n\u001b[32m     18\u001b[39m \u001b[38;5;66;03m# Initialize client (choose demo or prod)\u001b[39;00m\n\u001b[32m---> \u001b[39m\u001b[32m19\u001b[39m exchange_client = \u001b[43mExchangeClient\u001b[49m\u001b[43m(\u001b[49m\u001b[43mexchange_api_base\u001b[49m\u001b[43m=\u001b[49m\u001b[43mdemo_api_base\u001b[49m\u001b[43m,\u001b[49m\u001b[43m \u001b[49m\u001b[43memail\u001b[49m\u001b[43m=\u001b[49m\u001b[43mdemo_email\u001b[49m\u001b[43m,\u001b[49m\u001b[43m \u001b[49m\u001b[43mpassword\u001b[49m\u001b[43m=\u001b[49m\u001b[43mdemo_password\u001b[49m\u001b[43m)\u001b[49m\n\u001b[32m     21\u001b[39m \u001b[38;5;66;03m# Test connection\u001b[39;00m\n\u001b[32m     22\u001b[39m \u001b[38;5;28mprint\u001b[39m(exchange_client.get_exchange_status())\n",
      "\u001b[36mFile \u001b[39m\u001b[32m~/KalshiPopCultureMarkets/kalshi/KalshiClientsBaseV2.py:135\u001b[39m, in \u001b[36mExchangeClient.__init__\u001b[39m\u001b[34m(self, exchange_api_base, email, password)\u001b[39m\n\u001b[32m    130\u001b[39m \u001b[38;5;250m\u001b[39m\u001b[33;03m\"\"\"You must log in before making authenticated calls. We store the token and \u001b[39;00m\n\u001b[32m    131\u001b[39m \u001b[33;03mpass it into each call.\"\"\"\u001b[39;00m\n\u001b[32m    133\u001b[39m login_json = json.dumps(\n\u001b[32m    134\u001b[39m     {\u001b[33m\"\u001b[39m\u001b[33memail\u001b[39m\u001b[33m\"\u001b[39m: \u001b[38;5;28mself\u001b[39m.email, \u001b[33m\"\u001b[39m\u001b[33mpassword\u001b[39m\u001b[33m\"\u001b[39m: \u001b[38;5;28mself\u001b[39m.password})\n\u001b[32m--> \u001b[39m\u001b[32m135\u001b[39m result = \u001b[38;5;28;43mself\u001b[39;49m\u001b[43m.\u001b[49m\u001b[43mpost\u001b[49m\u001b[43m(\u001b[49m\u001b[43mpath\u001b[49m\u001b[43m=\u001b[49m\u001b[33;43m\"\u001b[39;49m\u001b[33;43m/login\u001b[39;49m\u001b[33;43m\"\u001b[39;49m\u001b[43m,\u001b[49m\u001b[43m \u001b[49m\u001b[43mbody\u001b[49m\u001b[43m=\u001b[49m\u001b[43mlogin_json\u001b[49m\u001b[43m)\u001b[49m\n\u001b[32m    136\u001b[39m \u001b[38;5;28mself\u001b[39m.token = result[\u001b[33m\"\u001b[39m\u001b[33mtoken\u001b[39m\u001b[33m\"\u001b[39m]\n\u001b[32m    137\u001b[39m \u001b[38;5;28mself\u001b[39m.user_id = result[\u001b[33m\"\u001b[39m\u001b[33mmember_id\u001b[39m\u001b[33m\"\u001b[39m]\n",
      "\u001b[36mFile \u001b[39m\u001b[32m~/KalshiPopCultureMarkets/kalshi/KalshiClientsBaseV2.py:58\u001b[39m, in \u001b[36mKalshiClient.post\u001b[39m\u001b[34m(self, path, body)\u001b[39m\n\u001b[32m     53\u001b[39m \u001b[38;5;28mself\u001b[39m.rate_limit()\n\u001b[32m     55\u001b[39m response = requests.post(\n\u001b[32m     56\u001b[39m     \u001b[38;5;28mself\u001b[39m.host + path, data=body, headers=\u001b[38;5;28mself\u001b[39m.request_headers()\n\u001b[32m     57\u001b[39m )\n\u001b[32m---> \u001b[39m\u001b[32m58\u001b[39m \u001b[38;5;28;43mself\u001b[39;49m\u001b[43m.\u001b[49m\u001b[43mraise_if_bad_response\u001b[49m\u001b[43m(\u001b[49m\u001b[43mresponse\u001b[49m\u001b[43m)\u001b[49m\n\u001b[32m     59\u001b[39m \u001b[38;5;28;01mreturn\u001b[39;00m response.json()\n",
      "\u001b[36mFile \u001b[39m\u001b[32m~/KalshiPopCultureMarkets/kalshi/KalshiClientsBaseV2.py:91\u001b[39m, in \u001b[36mKalshiClient.raise_if_bad_response\u001b[39m\u001b[34m(self, response)\u001b[39m\n\u001b[32m     89\u001b[39m \u001b[38;5;28;01mdef\u001b[39;00m\u001b[38;5;250m \u001b[39m\u001b[34mraise_if_bad_response\u001b[39m(\u001b[38;5;28mself\u001b[39m, response: requests.Response) -> \u001b[38;5;28;01mNone\u001b[39;00m:\n\u001b[32m     90\u001b[39m     \u001b[38;5;28;01mif\u001b[39;00m response.status_code \u001b[38;5;129;01mnot\u001b[39;00m \u001b[38;5;129;01min\u001b[39;00m \u001b[38;5;28mrange\u001b[39m(\u001b[32m200\u001b[39m, \u001b[32m299\u001b[39m):\n\u001b[32m---> \u001b[39m\u001b[32m91\u001b[39m         \u001b[38;5;28;01mraise\u001b[39;00m HttpError(response.reason, response.status_code)\n",
      "\u001b[31mHttpError\u001b[39m: HttpError(400 Bad Request)"
     ]
    }
   ],
   "source": [
    "from KalshiClientsBaseV2 import ExchangeClient\n",
    "import os\n",
    "from dotenv import load_dotenv\n",
    "\n",
    "load_dotenv()\n",
    "\n",
    "# Set credentials\n",
    "prod_email = os.getenv(\"EMAIL\")\n",
    "prod_password = os.getenv(\"PASSWORD\")\n",
    "\n",
    "demo_email = \"friendsatchatmd@gmail.com\"\n",
    "demo_password = \"TimmyNM12!\"\n",
    "\n",
    "# Set API base\n",
    "prod_api_base = \"https://trading-api.kalshi.com/trade-api/v2\"\n",
    "demo_api_base = \"https://demo-api.kalshi.co/trade-api/v2\"\n",
    "\n",
    "# Initialize client (choose demo or prod)\n",
    "exchange_client = ExchangeClient(exchange_api_base=demo_api_base, email=demo_email, password=demo_password)\n",
    "\n",
    "# Test connection\n",
    "print(exchange_client.get_exchange_status())"
   ]
  },
  {
   "cell_type": "code",
   "execution_count": null,
   "metadata": {},
   "outputs": [],
   "source": [
    "# You can discover markets through the get_markets endpoint...\n",
    "\n",
    "# and use query parameters to filter your search!\n",
    "market_params = {'limit':100,\n",
    "                    'cursor':None, # passing in the cursor from the previous get_markets call\n",
    "                    'event_ticker': None,\n",
    "                    'series_ticker':None,\n",
    "                    'max_close_ts':None, # pass in unix_ts\n",
    "                    'min_close_ts':None, # pass in unix_ts\n",
    "                    'status':None,\n",
    "                    'tickers':None}\n",
    "\n",
    "markets_response = exchange_client.get_markets(**market_params)\n",
    "cursor = markets_response['cursor']\n",
    "\n",
    "print('keys:', markets_response.keys())\n",
    "print()\n",
    "print('number of objects:', len(markets_response['markets'])) # 100 objects!\n",
    "print()\n",
    "print('first market in payload:', markets_response['markets'][0])\n",
    "print()\n",
    "print('cursor:', cursor)"
   ]
  },
  {
   "cell_type": "code",
   "execution_count": null,
   "metadata": {},
   "outputs": [],
   "source": [
    "# What are cursors and how do they work?\n",
    "    \n",
    "# The Cursor represents a pointer to the next page of records in the pagination.\n",
    "# So this optional parameter, when filled, should be filled with the cursor string returned in a previous request to this end-point.\n",
    "# Filling this would basically tell the api to get the next page containing the number of records passed on the limit parameter.\n",
    "# On the other side not filling it tells the api you want to get the first page for another query.\n",
    "# The cursor does not store any filters, so if any filter parameters like tickers, max_ts or min_ts were passed in the original query they must be passed again.\n",
    "\n",
    "# Let's try it in action! Suppose we wanted to get the next 100 market objects...\n",
    "\n",
    "market_params = {'limit':100,\n",
    "                    'cursor':cursor, # passing in the cursor from the previous get_markets call\n",
    "                    'event_ticker': None,\n",
    "                    'series_ticker': None,\n",
    "                    'max_close_ts': None, # pass in unix_ts\n",
    "                    'min_close_ts': None, # pass in unix_ts\n",
    "                    'status': None,\n",
    "                    'tickers':None}\n",
    "\n",
    "markets_response = exchange_client.get_markets(**market_params)\n",
    "cursor = markets_response['cursor']        \n",
    "\n",
    "print('keys:', markets_response.keys())\n",
    "print()\n",
    "print('number of objects:', len(markets_response['markets'])) # 100 objects!\n",
    "print()\n",
    "print('first market in market_response payload:', markets_response['markets'][0]) # new markets!\n",
    "print()\n",
    "print('new cursor!', cursor)"
   ]
  },
  {
   "cell_type": "code",
   "execution_count": null,
   "metadata": {},
   "outputs": [],
   "source": [
    "# Next, let's look at event level data by passing an event ticker to the get_event endpoint...\n",
    "\n",
    "event_ticker = markets_response['markets'][5]['event_ticker']\n",
    "event_params = {'event_ticker': event_ticker}\n",
    "event_response = exchange_client.get_event(**event_params)\n",
    "\n",
    "print('keys:', event_response.keys())\n",
    "print()\n",
    "print('event object:', event_response['event'])\n",
    "print()\n",
    "print('first market in event_response payload:', event_response['markets'][0])"
   ]
  },
  {
   "cell_type": "code",
   "execution_count": null,
   "metadata": {},
   "outputs": [],
   "source": [
    "# Next, let's look at series level data by passing a series ticker to the get_series endpoint! \n",
    "series_ticker = event_response['event']['series_ticker']\n",
    "series_params = {'series_ticker': series_ticker}\n",
    "series_response = exchange_client.get_series(**series_params)\n",
    "\n",
    "print('keys:', series_response.keys())\n",
    "print()\n",
    "print('series object:', series_response['series'])\n",
    "print()"
   ]
  },
  {
   "cell_type": "code",
   "execution_count": null,
   "metadata": {},
   "outputs": [],
   "source": [
    "# Next let's look at the recent market history for a market (ENDPOINT DOESN'T WORK)\n",
    "# ticker = 'FED-25DEC-T4.25'\n",
    "\n",
    "# market_history_params = {'ticker': ticker,\n",
    "#                             'limit': 100,\n",
    "#                             'cursor': None,\n",
    "#                             'max_ts': None, # pass in unix_ts\n",
    "#                             'min_ts': round(time.time()-1000000) # passing a recent unix_ts\n",
    "#                                 }\n",
    "# market_history_response = exchange_client.get_market_history(**market_history_params)\n",
    "\n",
    "# print('keys:', market_history_response.keys())\n",
    "# print()\n",
    "# print('most recent market history object:', market_history_response['history'][-1])\n",
    "# print()\n",
    "\n",
    "# # and then also look at the most current view of the orderbook\n",
    "# market_history_params = {'ticker':ticker,\n",
    "#                             'depth': 30\n",
    "#                                 }\n",
    "# orderbook_response = exchange_client.get_orderbook(**market_history_params)\n",
    "\n",
    "# print('keys:', orderbook_response.keys())\n",
    "# print()\n",
    "# print('orderbook object:', orderbook_response)\n",
    "# print()\n",
    "# Now let's suppose we wanted to place a trade on one of these markets... \n",
    "# to do so, we would first want to check out available balance...\n",
    "\n",
    "current_balance = exchange_client.get_balance()\n",
    "current_balance"
   ]
  },
  {
   "cell_type": "code",
   "execution_count": null,
   "metadata": {},
   "outputs": [],
   "source": [
    "# Now that you have some balance, you might want to see how your current positions are doing...\n",
    "\n",
    "positions_params = {'limit': None,\n",
    "                        'cursor': None,\n",
    "                        'settlement_status': None,\n",
    "                        'ticker': None,\n",
    "                        'event_ticker': None}\n",
    "\n",
    "current_position = exchange_client.get_positions(**positions_params)\n",
    "current_position"
   ]
  },
  {
   "cell_type": "code",
   "execution_count": null,
   "metadata": {},
   "outputs": [],
   "source": [
    "# seems like some of your recent orders had been filled. To check on those we use the get_positions endpoint ...\n",
    "\n",
    "fills_params = {'ticker':None,\n",
    "                    'order_id':None,\n",
    "                    'min_ts':None,\n",
    "                    'max_ts':None,\n",
    "                    'limit': None,\n",
    "                    'cursor': None}\n",
    "\n",
    "fills = exchange_client.get_fills(**fills_params)\n",
    "fills"
   ]
  },
  {
   "cell_type": "code",
   "execution_count": null,
   "metadata": {},
   "outputs": [],
   "source": [
    "\n",
    "# you may even want to check on some of your recent positions settled...\n",
    "\n",
    "settlement_params = {'limit': None,\n",
    "                        'cursor': None}\n",
    "\n",
    "settlements = exchange_client.get_portfolio_settlements(**settlement_params)\n",
    "settlements"
   ]
  }
 ],
 "metadata": {
  "kernelspec": {
   "display_name": ".venv",
   "language": "python",
   "name": "python3"
  },
  "language_info": {
   "codemirror_mode": {
    "name": "ipython",
    "version": 3
   },
   "file_extension": ".py",
   "mimetype": "text/x-python",
   "name": "python",
   "nbconvert_exporter": "python",
   "pygments_lexer": "ipython3",
   "version": "3.13.2"
  }
 },
 "nbformat": 4,
 "nbformat_minor": 2
}
