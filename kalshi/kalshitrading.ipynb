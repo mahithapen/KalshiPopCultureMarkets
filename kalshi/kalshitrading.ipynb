{
 "cells": [
  {
   "cell_type": "code",
   "execution_count": null,
   "metadata": {},
   "outputs": [
    {
     "ename": "",
     "evalue": "",
     "output_type": "error",
     "traceback": [
      "\u001b[1;31mRunning cells with '3.7.12 (Python 3.7.12)' requires the ipykernel package.\n",
      "\u001b[1;31mRun the following command to install 'ipykernel' into the Python environment. \n",
      "\u001b[1;31mCommand: '/Users/mahithapenmetsa/.pyenv/versions/3.7.12/bin/python -m pip install ipykernel -U --force-reinstall'"
     ]
    }
   ],
   "source": [
    "# Welcome to the Kalshi REST v2 Starter Code!\n",
    "\n",
    "# pypi client: recommended for more advanced programmers\n",
    "\n",
    "# starter client: recommended for all levels of programming experience (what this client is implemented using)\n",
    "from KalshiClientsBaseV2 import ExchangeClient\n",
    "import time\n",
    "import json\n",
    "import uuid\n",
    "import os\n",
    "from dotenv import load_dotenv\n",
    "\n",
    "load_dotenv()  # Make sure this points to the correct path if .env isn't in the root directory"
   ]
  },
  {
   "cell_type": "code",
   "execution_count": null,
   "metadata": {},
   "outputs": [],
   "source": [
    "# To start off, you need to have created an account at https://kalshi.com (Production) \n",
    "# or an account on the Demo https://demo.kalshi.co/\n",
    "\n",
    "prod_email = os.getenv(\"EMAIL\") # change these to be your personal credentials\n",
    "prod_password = os.getenv(\"PASSWORD\")  # (for extra security, we recommend using a config file)\n",
    "\n",
    "demo_email = \"\" # change these to be your personal credentials\n",
    "demo_password = \"\" # (for extra security, we recommend using a config file)\n",
    "\n",
    "# for prod\n",
    "prod_api_base = \"https://trading-api.kalshi.com/trade-api/v2\"\n",
    "\n",
    "# for demo\n",
    "demo_api_base = \"https://demo-api.kalshi.co/trade-api/v2\"\n",
    "\n",
    "## if wanting to test in prod:\n",
    "exchange_client = ExchangeClient(exchange_api_base=prod_api_base, email = prod_email, password = prod_password)\n",
    "\n",
    "## if wanting to test in demo\n",
    "# exchange_client = ExchangeClient(exchange_api_base = demo_api_base, email = demo_email, password = demo_password)\n",
    "\n",
    "# first we will check on the exchange status to confirm you are properly connected...\n",
    "print(exchange_client.get_exchange_status())"
   ]
  },
  {
   "cell_type": "code",
   "execution_count": null,
   "metadata": {},
   "outputs": [],
   "source": [
    "# You can discover markets through the get_markets endpoint...\n",
    "\n",
    "# and use query parameters to filter your search!\n",
    "market_params = {'limit':100,\n",
    "                    'cursor':None, # passing in the cursor from the previous get_markets call\n",
    "                    'event_ticker': None,\n",
    "                    'series_ticker':None,\n",
    "                    'max_close_ts':None, # pass in unix_ts\n",
    "                    'min_close_ts':None, # pass in unix_ts\n",
    "                    'status':None,\n",
    "                    'tickers':None}\n",
    "\n",
    "markets_response = exchange_client.get_markets(**market_params)\n",
    "cursor = markets_response['cursor']\n",
    "\n",
    "print('keys:', markets_response.keys())\n",
    "print()\n",
    "print('number of objects:', len(markets_response['markets'])) # 100 objects!\n",
    "print()\n",
    "print('first market in payload:', markets_response['markets'][0])\n",
    "print()\n",
    "print('cursor:', cursor)"
   ]
  },
  {
   "cell_type": "code",
   "execution_count": null,
   "metadata": {},
   "outputs": [],
   "source": [
    "# What are cursors and how do they work?\n",
    "    \n",
    "# The Cursor represents a pointer to the next page of records in the pagination.\n",
    "# So this optional parameter, when filled, should be filled with the cursor string returned in a previous request to this end-point.\n",
    "# Filling this would basically tell the api to get the next page containing the number of records passed on the limit parameter.\n",
    "# On the other side not filling it tells the api you want to get the first page for another query.\n",
    "# The cursor does not store any filters, so if any filter parameters like tickers, max_ts or min_ts were passed in the original query they must be passed again.\n",
    "\n",
    "# Let's try it in action! Suppose we wanted to get the next 100 market objects...\n",
    "\n",
    "market_params = {'limit':100,\n",
    "                    'cursor':cursor, # passing in the cursor from the previous get_markets call\n",
    "                    'event_ticker': None,\n",
    "                    'series_ticker': None,\n",
    "                    'max_close_ts': None, # pass in unix_ts\n",
    "                    'min_close_ts': None, # pass in unix_ts\n",
    "                    'status': None,\n",
    "                    'tickers':None}\n",
    "\n",
    "markets_response = exchange_client.get_markets(**market_params)\n",
    "cursor = markets_response['cursor']        \n",
    "\n",
    "print('keys:', markets_response.keys())\n",
    "print()\n",
    "print('number of objects:', len(markets_response['markets'])) # 100 objects!\n",
    "print()\n",
    "print('first market in market_response payload:', markets_response['markets'][0]) # new markets!\n",
    "print()\n",
    "print('new cursor!', cursor)"
   ]
  },
  {
   "cell_type": "code",
   "execution_count": null,
   "metadata": {},
   "outputs": [],
   "source": [
    "# Next, let's look at event level data by passing an event ticker to the get_event endpoint...\n",
    "\n",
    "event_ticker = markets_response['markets'][5]['event_ticker']\n",
    "event_params = {'event_ticker': event_ticker}\n",
    "event_response = exchange_client.get_event(**event_params)\n",
    "\n",
    "print('keys:', event_response.keys())\n",
    "print()\n",
    "print('event object:', event_response['event'])\n",
    "print()\n",
    "print('first market in event_response payload:', event_response['markets'][0])"
   ]
  },
  {
   "cell_type": "code",
   "execution_count": null,
   "metadata": {},
   "outputs": [],
   "source": [
    "# Next, let's look at series level data by passing a series ticker to the get_series endpoint! \n",
    "series_ticker = event_response['event']['series_ticker']\n",
    "series_params = {'series_ticker': series_ticker}\n",
    "series_response = exchange_client.get_series(**series_params)\n",
    "\n",
    "print('keys:', series_response.keys())\n",
    "print()\n",
    "print('series object:', series_response['series'])\n",
    "print()"
   ]
  },
  {
   "cell_type": "code",
   "execution_count": null,
   "metadata": {},
   "outputs": [],
   "source": [
    "# Next let's look at the recent market history for a market (ENDPOINT DOESN'T WORK)\n",
    "# ticker = 'FED-25DEC-T4.25'\n",
    "\n",
    "# market_history_params = {'ticker': ticker,\n",
    "#                             'limit': 100,\n",
    "#                             'cursor': None,\n",
    "#                             'max_ts': None, # pass in unix_ts\n",
    "#                             'min_ts': round(time.time()-1000000) # passing a recent unix_ts\n",
    "#                                 }\n",
    "# market_history_response = exchange_client.get_market_history(**market_history_params)\n",
    "\n",
    "# print('keys:', market_history_response.keys())\n",
    "# print()\n",
    "# print('most recent market history object:', market_history_response['history'][-1])\n",
    "# print()\n",
    "\n",
    "# # and then also look at the most current view of the orderbook\n",
    "# market_history_params = {'ticker':ticker,\n",
    "#                             'depth': 30\n",
    "#                                 }\n",
    "# orderbook_response = exchange_client.get_orderbook(**market_history_params)\n",
    "\n",
    "# print('keys:', orderbook_response.keys())\n",
    "# print()\n",
    "# print('orderbook object:', orderbook_response)\n",
    "# print()\n",
    "# Now let's suppose we wanted to place a trade on one of these markets... \n",
    "# to do so, we would first want to check out available balance...\n",
    "\n",
    "current_balance = exchange_client.get_balance()\n",
    "current_balance"
   ]
  },
  {
   "cell_type": "code",
   "execution_count": null,
   "metadata": {},
   "outputs": [],
   "source": [
    "# Now that you have some balance, you might want to see how your current positions are doing...\n",
    "\n",
    "positions_params = {'limit': None,\n",
    "                        'cursor': None,\n",
    "                        'settlement_status': None,\n",
    "                        'ticker': None,\n",
    "                        'event_ticker': None}\n",
    "\n",
    "current_position = exchange_client.get_positions(**positions_params)\n",
    "current_position"
   ]
  },
  {
   "cell_type": "code",
   "execution_count": null,
   "metadata": {},
   "outputs": [],
   "source": [
    "# seems like some of your recent orders had been filled. To check on those we use the get_positions endpoint ...\n",
    "\n",
    "fills_params = {'ticker':None,\n",
    "                    'order_id':None,\n",
    "                    'min_ts':None,\n",
    "                    'max_ts':None,\n",
    "                    'limit': None,\n",
    "                    'cursor': None}\n",
    "\n",
    "fills = exchange_client.get_fills(**fills_params)\n",
    "fills"
   ]
  },
  {
   "cell_type": "code",
   "execution_count": null,
   "metadata": {},
   "outputs": [],
   "source": [
    "\n",
    "# you may even want to check on some of your recent positions settled...\n",
    "\n",
    "settlement_params = {'limit': None,\n",
    "                        'cursor': None}\n",
    "\n",
    "settlements = exchange_client.get_portfolio_settlements(**settlement_params)\n",
    "settlements"
   ]
  }
 ],
 "metadata": {
  "kernelspec": {
   "display_name": "3.7.12",
   "language": "python",
   "name": "python3"
  },
  "language_info": {
   "name": "python",
   "version": "3.7.12"
  }
 },
 "nbformat": 4,
 "nbformat_minor": 2
}
