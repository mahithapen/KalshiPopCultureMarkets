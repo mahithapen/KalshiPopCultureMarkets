{
 "cells": [
  {
   "cell_type": "code",
   "execution_count": null,
   "id": "823b2f50",
   "metadata": {},
   "outputs": [],
   "source": [
    "!pip install datasets transformers scikit-learn -q\n",
    "import pandas as pd\n",
    "import numpy as np\n",
    "from datasets import Dataset\n",
    "from transformers import (\n",
    "    BertTokenizerFast,\n",
    "    BertForSequenceClassification,\n",
    "    Trainer,\n",
    "    TrainingArguments,\n",
    "    DataCollatorWithPadding\n",
    ")\n",
    "from sklearn.metrics import accuracy_score, precision_recall_fscore_support"
   ]
  },
  {
   "cell_type": "code",
   "execution_count": null,
   "id": "9961449a",
   "metadata": {},
   "outputs": [],
   "source": [
    "df = pd.read_csv(\"training_data.csv\")\n",
    "df[\"text\"] = (\n",
    "    df[[f\"post_{i}\" for i in range(1, 41)]]\n",
    "    .fillna(\"\")\n",
    "    .agg(\" \".join, axis=1)\n",
    ")\n",
    "df[\"label\"] = df[\"result\"].map({\"no\": 0, \"yes\": 1})\n",
    "\n",
    "ds = Dataset.from_pandas(df[[\"text\", \"label\"]])\n"
   ]
  },
  {
   "cell_type": "code",
   "execution_count": null,
   "id": "b1fc52d2",
   "metadata": {},
   "outputs": [],
   "source": [
    "\n",
    "split = ds.train_test_split(test_size=0.2, stratify_by_column=\"label\", seed=42)\n",
    "train_ds = split[\"train\"]\n",
    "val_ds   = split[\"test\"]"
   ]
  },
  {
   "cell_type": "code",
   "execution_count": null,
   "id": "4cdfb20b",
   "metadata": {},
   "outputs": [],
   "source": [
    "tokenizer = BertTokenizerFast.from_pretrained(\"bert-base-uncased\")\n",
    "def tokenize_fn(batch):\n",
    "    return tokenizer(batch[\"text\"], truncation=True)\n",
    "train_ds = train_ds.map(tokenize_fn, batched=True)\n",
    "val_ds   = val_ds.map(tokenize_fn, batched=True)\n",
    "\n",
    "data_collator = DataCollatorWithPadding(tokenizer)\n",
    "train_ds.set_format(type=\"torch\", columns=[\"input_ids\",\"attention_mask\",\"label\"])\n",
    "val_ds.set_format(type=\"torch\", columns=[\"input_ids\",\"attention_mask\",\"label\"])\n",
    "\n",
    "model = BertForSequenceClassification.from_pretrained(\n",
    "    \"bert-base-uncased\",\n",
    "    num_labels=2\n",
    ")\n",
    "def compute_metrics(pred):\n",
    "    logits, labels = pred\n",
    "    preds = np.argmax(logits, axis=-1)\n",
    "    acc = accuracy_score(labels, preds)\n",
    "    p, r, f1, _ = precision_recall_fscore_support(labels, preds, average=\"binary\")\n",
    "    return {\"accuracy\": acc, \"precision\": p, \"recall\": r, \"f1\": f1}"
   ]
  },
  {
   "cell_type": "code",
   "execution_count": null,
   "id": "745c1f5a",
   "metadata": {},
   "outputs": [],
   "source": [
    "training_args = TrainingArguments(\n",
    "    output_dir=\"./bert-finetuned\",\n",
    "    evaluation_strategy=\"steps\",\n",
    "    eval_steps=100,\n",
    "    save_steps=200,\n",
    "    logging_steps=50,\n",
    "    per_device_train_batch_size=8,\n",
    "    per_device_eval_batch_size=8,\n",
    "    num_train_epochs=3,\n",
    "    warmup_steps=500,\n",
    "    weight_decay=0.01,\n",
    "    learning_rate=2e-5,\n",
    "    load_best_model_at_end=True,\n",
    "    metric_for_best_model=\"f1\",\n",
    ")\n",
    "\n",
    "trainer = Trainer(\n",
    "    model=model,\n",
    "    args=training_args,\n",
    "    train_dataset=train_ds,\n",
    "    eval_dataset=val_ds,\n",
    "    tokenizer=tokenizer,\n",
    "    data_collator=data_collator,\n",
    "    compute_metrics=compute_metrics\n",
    ")\n",
    "\n",
    "trainer.train()"
   ]
  },
  {
   "cell_type": "code",
   "execution_count": null,
   "id": "843f6b6f",
   "metadata": {},
   "outputs": [],
   "source": [
    "import pandas as pd\n",
    "from sklearn.model_selection import train_test_split\n",
    "from sklearn.ensemble import RandomForestClassifier\n",
    "\n",
    "df = pd.read_csv('training_data.csv')\n",
    "\n",
    "X = df.drop(columns=['result', 'yes_bid'])\n",
    "y = df['result'].map({'no': 0, 'yes': 1})\n",
    "X = X.fillna(0)\n",
    "\n",
    "X_train, X_test, y_train, y_test = train_test_split(\n",
    "    X, y,\n",
    "    test_size=0.2,\n",
    "    stratify=y,\n",
    "    random_state=42\n",
    ")"
   ]
  },
  {
   "cell_type": "code",
   "execution_count": 34,
   "id": "3a377bd2",
   "metadata": {},
   "outputs": [
    {
     "name": "stdout",
     "output_type": "stream",
     "text": [
      "Test MSE: 0.2241\n",
      "Thresholded Accuracy: 0.6379\n",
      "\n",
      "              precision    recall  f1-score   support\n",
      "\n",
      "          no       0.43      0.23      0.30        39\n",
      "         yes       0.68      0.84      0.76        77\n",
      "\n",
      "    accuracy                           0.64       116\n",
      "   macro avg       0.56      0.54      0.53       116\n",
      "weighted avg       0.60      0.64      0.60       116\n",
      "\n"
     ]
    }
   ],
   "source": [
    "from sklearn.linear_model import LinearRegression\n",
    "from sklearn.metrics import mean_squared_error, accuracy_score, classification_report\n",
    "\n",
    "lr = LinearRegression()\n",
    "lr.fit(X_train, y_train)\n",
    "\n",
    "y_pred_cont = lr.predict(X_test)\n",
    "\n",
    "mse = mean_squared_error(y_test, y_pred_cont)\n",
    "print(f\"Test MSE: {mse:.4f}\")\n",
    "\n",
    "y_pred_bin = (y_pred_cont >= 0.5).astype(int)\n",
    "\n",
    "acc = accuracy_score(y_test, y_pred_bin)\n",
    "print(f\"Thresholded Accuracy: {acc:.4f}\\n\")\n",
    "print(classification_report(y_test, y_pred_bin, target_names=['no','yes']))"
   ]
  },
  {
   "cell_type": "code",
   "execution_count": 33,
   "id": "136903de",
   "metadata": {},
   "outputs": [
    {
     "name": "stdout",
     "output_type": "stream",
     "text": [
      "Test Accuracy: 0.6638\n",
      "\n",
      "Classification Report:\n",
      "              precision    recall  f1-score   support\n",
      "\n",
      "          no       0.50      0.28      0.36        39\n",
      "         yes       0.70      0.86      0.77        77\n",
      "\n",
      "    accuracy                           0.66       116\n",
      "   macro avg       0.60      0.57      0.57       116\n",
      "weighted avg       0.63      0.66      0.63       116\n",
      "\n"
     ]
    }
   ],
   "source": [
    "from sklearn.linear_model import LogisticRegression\n",
    "\n",
    "clf = LogisticRegression(\n",
    "    solver='lbfgs',\n",
    "    max_iter=1000,\n",
    "    random_state=42\n",
    ")\n",
    "clf.fit(X_train, y_train)\n",
    "\n",
    "y_pred = clf.predict(X_test)\n",
    "\n",
    "acc = accuracy_score(y_test, y_pred)\n",
    "print(f\"Test Accuracy: {acc:.4f}\\n\")\n",
    "print(\"Classification Report:\")\n",
    "print(classification_report(y_test, y_pred, target_names=['no', 'yes']))"
   ]
  },
  {
   "cell_type": "code",
   "execution_count": 32,
   "id": "92f6c268",
   "metadata": {},
   "outputs": [
    {
     "name": "stdout",
     "output_type": "stream",
     "text": [
      "Test Accuracy: 0.6897\n",
      "\n",
      "Classification Report:\n",
      "              precision    recall  f1-score   support\n",
      "\n",
      "          no       0.56      0.38      0.45        39\n",
      "         yes       0.73      0.84      0.78        77\n",
      "\n",
      "    accuracy                           0.69       116\n",
      "   macro avg       0.64      0.61      0.62       116\n",
      "weighted avg       0.67      0.69      0.67       116\n",
      "\n"
     ]
    }
   ],
   "source": [
    "clf = RandomForestClassifier(\n",
    "    n_estimators=100,\n",
    "    max_depth=None,\n",
    "    min_samples_split=2,\n",
    "    random_state=42\n",
    ")\n",
    "clf.fit(X_train, y_train)\n",
    "\n",
    "y_pred = clf.predict(X_test)\n",
    "\n",
    "acc = accuracy_score(y_test, y_pred)\n",
    "print(f\"Test Accuracy: {acc:.4f}\\n\")\n",
    "print(\"Classification Report:\")\n",
    "print(classification_report(y_test, y_pred, target_names=['no', 'yes']))"
   ]
  },
  {
   "cell_type": "code",
   "execution_count": null,
   "id": "dad8fae4",
   "metadata": {},
   "outputs": [
    {
     "name": "stdout",
     "output_type": "stream",
     "text": [
      "Epoch 1/30\n",
      "26/26 - 1s - 35ms/step - accuracy: 0.4638 - loss: 0.8109 - val_accuracy: 0.5870 - val_loss: 0.7258\n",
      "Epoch 2/30\n",
      "26/26 - 0s - 3ms/step - accuracy: 0.5507 - loss: 0.7351 - val_accuracy: 0.5217 - val_loss: 0.7143\n",
      "Epoch 3/30\n",
      "26/26 - 0s - 4ms/step - accuracy: 0.5700 - loss: 0.7122 - val_accuracy: 0.5652 - val_loss: 0.7152\n",
      "Epoch 4/30\n",
      "26/26 - 0s - 4ms/step - accuracy: 0.6208 - loss: 0.7043 - val_accuracy: 0.5652 - val_loss: 0.7199\n",
      "Epoch 5/30\n",
      "26/26 - 0s - 4ms/step - accuracy: 0.6425 - loss: 0.6736 - val_accuracy: 0.5652 - val_loss: 0.7183\n",
      "Epoch 6/30\n",
      "26/26 - 0s - 4ms/step - accuracy: 0.6280 - loss: 0.6878 - val_accuracy: 0.5870 - val_loss: 0.7164\n",
      "Epoch 7/30\n",
      "26/26 - 0s - 4ms/step - accuracy: 0.6618 - loss: 0.6569 - val_accuracy: 0.5870 - val_loss: 0.7181\n",
      "Epoch 8/30\n",
      "26/26 - 0s - 4ms/step - accuracy: 0.6594 - loss: 0.6686 - val_accuracy: 0.6087 - val_loss: 0.7168\n",
      "Epoch 9/30\n",
      "26/26 - 0s - 4ms/step - accuracy: 0.6715 - loss: 0.6311 - val_accuracy: 0.6087 - val_loss: 0.7146\n",
      "Epoch 10/30\n",
      "26/26 - 0s - 4ms/step - accuracy: 0.6763 - loss: 0.6264 - val_accuracy: 0.6087 - val_loss: 0.7149\n",
      "Epoch 11/30\n",
      "26/26 - 0s - 4ms/step - accuracy: 0.6691 - loss: 0.6431 - val_accuracy: 0.6087 - val_loss: 0.7128\n",
      "Epoch 12/30\n",
      "26/26 - 0s - 4ms/step - accuracy: 0.6957 - loss: 0.6153 - val_accuracy: 0.6087 - val_loss: 0.7147\n",
      "Epoch 13/30\n",
      "26/26 - 0s - 4ms/step - accuracy: 0.6715 - loss: 0.6475 - val_accuracy: 0.6087 - val_loss: 0.7147\n",
      "Epoch 14/30\n",
      "26/26 - 0s - 4ms/step - accuracy: 0.7029 - loss: 0.5981 - val_accuracy: 0.6087 - val_loss: 0.7146\n",
      "Epoch 15/30\n",
      "26/26 - 0s - 4ms/step - accuracy: 0.6884 - loss: 0.6056 - val_accuracy: 0.6087 - val_loss: 0.7131\n",
      "Epoch 16/30\n",
      "26/26 - 0s - 5ms/step - accuracy: 0.6957 - loss: 0.6117 - val_accuracy: 0.5870 - val_loss: 0.7138\n",
      "Epoch 17/30\n",
      "26/26 - 0s - 4ms/step - accuracy: 0.7005 - loss: 0.6150 - val_accuracy: 0.5870 - val_loss: 0.7177\n",
      "Epoch 18/30\n",
      "26/26 - 0s - 5ms/step - accuracy: 0.7101 - loss: 0.6018 - val_accuracy: 0.5870 - val_loss: 0.7169\n",
      "Epoch 19/30\n",
      "26/26 - 0s - 4ms/step - accuracy: 0.6932 - loss: 0.6221 - val_accuracy: 0.5870 - val_loss: 0.7173\n",
      "Epoch 20/30\n",
      "26/26 - 0s - 5ms/step - accuracy: 0.7126 - loss: 0.6062 - val_accuracy: 0.5870 - val_loss: 0.7171\n",
      "Epoch 21/30\n",
      "26/26 - 0s - 4ms/step - accuracy: 0.6957 - loss: 0.5915 - val_accuracy: 0.5870 - val_loss: 0.7170\n",
      "Epoch 22/30\n",
      "26/26 - 0s - 5ms/step - accuracy: 0.7343 - loss: 0.5897 - val_accuracy: 0.5870 - val_loss: 0.7230\n",
      "Epoch 23/30\n",
      "26/26 - 0s - 5ms/step - accuracy: 0.7246 - loss: 0.5804 - val_accuracy: 0.5870 - val_loss: 0.7165\n",
      "Epoch 24/30\n",
      "26/26 - 0s - 4ms/step - accuracy: 0.7053 - loss: 0.5953 - val_accuracy: 0.5870 - val_loss: 0.7234\n",
      "Epoch 25/30\n",
      "26/26 - 0s - 4ms/step - accuracy: 0.6860 - loss: 0.6111 - val_accuracy: 0.5870 - val_loss: 0.7241\n",
      "Epoch 26/30\n",
      "26/26 - 0s - 4ms/step - accuracy: 0.7150 - loss: 0.5954 - val_accuracy: 0.5870 - val_loss: 0.7248\n",
      "Epoch 27/30\n",
      "26/26 - 0s - 4ms/step - accuracy: 0.7101 - loss: 0.6048 - val_accuracy: 0.6087 - val_loss: 0.7215\n",
      "Epoch 28/30\n",
      "26/26 - 0s - 4ms/step - accuracy: 0.7053 - loss: 0.6006 - val_accuracy: 0.6087 - val_loss: 0.7228\n",
      "Epoch 29/30\n",
      "26/26 - 0s - 4ms/step - accuracy: 0.7271 - loss: 0.5855 - val_accuracy: 0.6087 - val_loss: 0.7216\n",
      "Epoch 30/30\n",
      "26/26 - 0s - 4ms/step - accuracy: 0.7295 - loss: 0.5956 - val_accuracy: 0.6087 - val_loss: 0.7262\n"
     ]
    }
   ],
   "source": [
    "from sklearn.preprocessing import StandardScaler\n",
    "from sklearn.metrics import classification_report\n",
    "import tensorflow as tf\n",
    "from tensorflow.keras import layers, models, regularizers\n",
    "\n",
    "scaler = StandardScaler()\n",
    "X_train = scaler.fit_transform(X_train)\n",
    "X_test  = scaler.transform(X_test)\n",
    "\n",
    "tf.keras.backend.clear_session()\n",
    "try:\n",
    "    del model\n",
    "except NameError:\n",
    "    pass\n",
    "\n",
    "model = models.Sequential([\n",
    "    layers.Input(shape=(X_train.shape[1],)),\n",
    "    layers.GaussianNoise(0.1),\n",
    "    layers.Dense(32, activation='sigmoid',\n",
    "                 kernel_regularizer=regularizers.l2(1e-3)),\n",
    "    layers.Dropout(0.3),\n",
    "    layers.Dense(1, activation='sigmoid'),\n",
    "])\n",
    "\n",
    "model.compile(\n",
    "    optimizer='adam',\n",
    "    loss='binary_crossentropy',\n",
    "    metrics=['accuracy']\n",
    ")\n",
    "\n",
    "history = model.fit(\n",
    "    X_train, y_train,\n",
    "    validation_split=0.1,\n",
    "    epochs=30,\n",
    "    batch_size=16,\n",
    "    verbose=2\n",
    ")"
   ]
  },
  {
   "cell_type": "code",
   "execution_count": null,
   "id": "0a6cffc3",
   "metadata": {},
   "outputs": [
    {
     "name": "stdout",
     "output_type": "stream",
     "text": [
      "Test accuracy: 0.6810\n",
      "\u001b[1m4/4\u001b[0m \u001b[32m━━━━━━━━━━━━━━━━━━━━\u001b[0m\u001b[37m\u001b[0m \u001b[1m0s\u001b[0m 13ms/step\n",
      "\n",
      "Classification Report:\n",
      "              precision    recall  f1-score   support\n",
      "\n",
      "          no       0.58      0.18      0.27        39\n",
      "         yes       0.69      0.94      0.80        77\n",
      "\n",
      "    accuracy                           0.68       116\n",
      "   macro avg       0.64      0.56      0.54       116\n",
      "weighted avg       0.66      0.68      0.62       116\n",
      "\n"
     ]
    }
   ],
   "source": [
    "loss, acc = model.evaluate(X_test, y_test, verbose=0)\n",
    "print(f\"Test accuracy: {acc:.4f}\")\n",
    "\n",
    "y_pred_prob = model.predict(X_test).ravel()\n",
    "y_pred = (y_pred_prob >= 0.5).astype(int)\n",
    "\n",
    "print(\"\\nClassification Report:\")\n",
    "print(classification_report(y_test, y_pred, target_names=['no','yes']))"
   ]
  },
  {
   "cell_type": "code",
   "execution_count": 37,
   "id": "f9576beb",
   "metadata": {},
   "outputs": [
    {
     "data": {
      "image/png": "[encoded data removed]",
      "text/plain": [
       "<Figure size 640x480 with 1 Axes>"
      ]
     },
     "metadata": {},
     "output_type": "display_data"
    }
   ],
   "source": [
    "import matplotlib.pyplot as plt\n",
    "train_acc = history.history['accuracy']\n",
    "val_acc   = history.history['val_accuracy']\n",
    "epochs    = range(1, len(train_acc) + 1)\n",
    "\n",
    "plt.figure()\n",
    "plt.plot(epochs, train_acc, label='Train Accuracy')\n",
    "plt.plot(epochs, val_acc,   label='Validation Accuracy')\n",
    "plt.xlabel('Epoch')\n",
    "plt.ylabel('Accuracy')\n",
    "plt.title('Training vs. Validation Accuracy')\n",
    "plt.legend()\n",
    "plt.grid(True)\n",
    "plt.show()"
   ]
  },
  {
   "cell_type": "code",
   "execution_count": 24,
   "id": "c8cfe731",
   "metadata": {},
   "outputs": [
    {
     "data": {
      "text/plain": [
       "array([1.47435897, 0.75657895])"
      ]
     },
     "execution_count": 24,
     "metadata": {},
     "output_type": "execute_result"
    }
   ],
   "source": [
    "weights"
   ]
  },
  {
   "cell_type": "code",
   "execution_count": null,
   "id": "a3b54221",
   "metadata": {},
   "outputs": [],
   "source": [
    "!pip install transformers datasets scikit-learn -q"
   ]
  },
  {
   "cell_type": "code",
   "execution_count": null,
   "id": "89734ca8",
   "metadata": {},
   "outputs": [],
   "source": [
    "from datasets import load_dataset\n",
    "\n",
    "# Load the IMDb dataset\n",
    "dataset = load_dataset(\"imdb\")\n",
    "dataset = dataset.shuffle(seed=42)\n",
    "\n",
    "# Split the dataset\n",
    "train_data = dataset['train'].shuffle(seed=42).select(range(2000))  # smaller subset\n",
    "test_data = dataset['test'].shuffle(seed=42).select(range(1000))"
   ]
  },
  {
   "cell_type": "code",
   "execution_count": null,
   "id": "0afcf286",
   "metadata": {},
   "outputs": [],
   "source": [
    "from transformers import BertTokenizer\n",
    "\n",
    "tokenizer = BertTokenizer.from_pretrained(\"bert-base-uncased\")\n",
    "\n",
    "def tokenize_function(examples):\n",
    "    return tokenizer(examples[\"text\"], padding=\"max_length\", truncation=True, max_length=512)\n",
    "\n",
    "tokenized_train = train_data.map(tokenize_function, batched=True)\n",
    "tokenized_test = test_data.map(tokenize_function, batched=True)"
   ]
  },
  {
   "cell_type": "code",
   "execution_count": null,
   "id": "0a972c1c",
   "metadata": {},
   "outputs": [],
   "source": [
    "from transformers import BertForSequenceClassification\n",
    "\n",
    "# Load BERT with a classification head\n",
    "model = BertForSequenceClassification.from_pretrained(\"bert-base-uncased\", num_labels=2)"
   ]
  },
  {
   "cell_type": "code",
   "execution_count": null,
   "id": "e737379f",
   "metadata": {},
   "outputs": [],
   "source": [
    "from transformers import TrainingArguments, Trainer\n",
    "import numpy as np\n",
    "from sklearn.metrics import accuracy_score\n",
    "\n",
    "def compute_metrics(eval_pred):\n",
    "    logits, labels = eval_pred\n",
    "    predictions = np.argmax(logits, axis=-1)\n",
    "    return {\"accuracy\": accuracy_score(labels, predictions)}\n",
    "\n",
    "training_args = TrainingArguments(\n",
    "    output_dir=\"./bert_output\",\n",
    "    evaluation_strategy=\"epoch\",\n",
    "    learning_rate=2e-5,\n",
    "    per_device_train_batch_size=8,\n",
    "    per_device_eval_batch_size=8,\n",
    "    num_train_epochs=2,\n",
    "    weight_decay=0.01,\n",
    "    logging_dir=\"./logs\",\n",
    ")\n",
    "\n",
    "trainer = Trainer(\n",
    "    model=model,\n",
    "    args=training_args,\n",
    "    train_dataset=tokenized_train,\n",
    "    eval_dataset=tokenized_test,\n",
    "    tokenizer=tokenizer,\n",
    "    compute_metrics=compute_metrics,\n",
    ")"
   ]
  },
  {
   "cell_type": "code",
   "execution_count": null,
   "id": "e7f35110",
   "metadata": {},
   "outputs": [],
   "source": [
    "trainer.train()"
   ]
  },
  {
   "cell_type": "code",
   "execution_count": null,
   "id": "454bb9a7",
   "metadata": {},
   "outputs": [],
   "source": [
    "trainer.evaluate()"
   ]
  }
 ],
 "metadata": {
  "kernelspec": {
   "display_name": ".venv",
   "language": "python",
   "name": "python3"
  },
  "language_info": {
   "codemirror_mode": {
    "name": "ipython",
    "version": 3
   },
   "file_extension": ".py",
   "mimetype": "text/x-python",
   "name": "python",
   "nbconvert_exporter": "python",
   "pygments_lexer": "ipython3",
   "version": "3.13.2"
  }
 },
 "nbformat": 4,
 "nbformat_minor": 5
}
